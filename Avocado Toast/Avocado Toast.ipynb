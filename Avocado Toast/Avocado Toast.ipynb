{
 "cells": [
  {
   "cell_type": "code",
   "execution_count": 11,
   "id": "339a6352-aed5-4b9e-a48f-1b91a7db9adb",
   "metadata": {
    "executionCancelledAt": null,
    "executionTime": 428,
    "lastExecutedAt": 1722626022273,
    "lastExecutedByKernel": "e5be5b36-a420-4eaa-a8bc-672f90b6d5c8",
    "lastScheduledRunId": null,
    "lastSuccessfullyExecutedCode": "import pandas as pd\n\ndef top_origin(df,categories):\n    df = df[['code', 'lc', 'product_name_en', 'quantity', 'serving_size', 'packaging_tags', 'brands', 'brands_tags', 'categories_tags', 'labels_tags', 'countries', 'countries_tags', 'origins', 'origins_tags']]\n    df['categories_list'] = df['categories_tags'].str.split(',')\n    df = df.dropna(subset=\"categories_list\")\n    df = df[df['categories_list'].apply(lambda x: any([i for i in x if i in categories]))]\n    df = df[df['countries']=='United Kingdom']\n    df = df['origins'].value_counts().index[0].lstrip(\"en:\")\n    return df\n\navocado = pd.read_csv('data/avocado.csv', sep=\"\\t\")\nolive_oil = pd.read_csv('data/olive_oil.csv', sep='\\t')\nsourdough = pd.read_csv('data/sourdough.csv', sep='\\t')\n\nwith open(\"data/relevant_avocado_categories.txt\", \"r\") as file:\n    relevant_avocado_categories = file.read().splitlines()\n    file.close()\n\nwith open(\"data/relevant_olive_oil_categories.txt\", \"r\") as file:\n    relevant_olive_oil_categories = file.read().splitlines()\n    file.close()\n    \nwith open(\"data/relevant_sourdough_categories.txt\", \"r\") as file:\n    relevant_sourdough_categories = file.read().splitlines()\n    file.close()\n\n\ntop_avocado_origin = top_origin(avocado,relevant_avocado_categories)\ntop_olive_oil_origin = top_origin(olive_oil,relevant_olive_oil_categories)\ntop_sourdough_origin = top_origin(sourdough,relevant_sourdough_categories)\n\nprint(top_avocado_origin)\nprint(top_olive_oil_origin)\nprint(top_sourdough_origin)",
    "outputsMetadata": {
     "0": {
      "height": 80,
      "type": "stream"
     }
    }
   },
   "outputs": [
    {
     "name": "stdout",
     "output_type": "stream",
     "text": [
      "Avocado : Peru\n",
      "Olive_oil : Greece\n",
      "Sourdough : United Kingdom\n"
     ]
    }
   ],
   "source": [
    "import pandas as pd\n",
    "pd.options.mode.chained_assignment = None\n",
    "\n",
    "def top_origin(df,categories):\n",
    "    df = df[['code', 'lc', 'product_name_en', 'quantity', 'serving_size', 'packaging_tags', 'brands', 'brands_tags', 'categories_tags', 'labels_tags', 'countries', 'countries_tags', 'origins', 'origins_tags']]\n",
    "    df['categories_list'] = df['categories_tags'].str.split(',')\n",
    "    df = df.dropna(subset=\"categories_list\")\n",
    "    df = df[df['categories_list'].apply(lambda x: any([i for i in x if i in categories]))]\n",
    "    df = df[df['countries']=='United Kingdom']\n",
    "    df = df['origins'].value_counts().index[0].lstrip(\"en:\")\n",
    "    return df\n",
    "\n",
    "avocado = pd.read_csv('data/avocado.csv', sep=\"\\t\")\n",
    "olive_oil = pd.read_csv('data/olive_oil.csv', sep='\\t', low_memory=False)\n",
    "sourdough = pd.read_csv('data/sourdough.csv', sep='\\t')\n",
    "\n",
    "with open(\"data/relevant_avocado_categories.txt\", \"r\", encoding='utf-8') as file:\n",
    "    relevant_avocado_categories = file.read().splitlines()\n",
    "    file.close()\n",
    "\n",
    "with open(\"data/relevant_olive_oil_categories.txt\", \"r\", encoding='utf-8') as file:\n",
    "    relevant_olive_oil_categories = file.read().splitlines()\n",
    "    file.close()\n",
    "    \n",
    "with open(\"data/relevant_sourdough_categories.txt\", \"r\", encoding='utf-8') as file:\n",
    "    relevant_sourdough_categories = file.read().splitlines()\n",
    "    file.close()\n",
    "\n",
    "\n",
    "top_avocado_origin = top_origin(avocado,relevant_avocado_categories)\n",
    "top_olive_oil_origin = top_origin(olive_oil,relevant_olive_oil_categories)\n",
    "top_sourdough_origin = top_origin(sourdough,relevant_sourdough_categories)\n",
    "\n",
    "print(\"Avocado :\",top_avocado_origin)\n",
    "print(\"Olive_oil :\",top_olive_oil_origin)\n",
    "print(\"Sourdough :\" ,top_sourdough_origin)"
   ]
  }
 ],
 "metadata": {
  "colab": {
   "name": "Welcome to DataCamp Workspaces.ipynb",
   "provenance": []
  },
  "kernelspec": {
   "display_name": "Python 3",
   "language": "python",
   "name": "python3"
  },
  "language_info": {
   "codemirror_mode": {
    "name": "ipython",
    "version": 3
   },
   "file_extension": ".py",
   "mimetype": "text/x-python",
   "name": "python",
   "nbconvert_exporter": "python",
   "pygments_lexer": "ipython3",
   "version": "3.12.4"
  }
 },
 "nbformat": 4,
 "nbformat_minor": 5
}
