{
 "cells": [
  {
   "cell_type": "code",
   "execution_count": 18,
   "id": "5c60cfc2-1b7b-4b60-8260-f85e33c8131f",
   "metadata": {
    "executionCancelledAt": null,
    "executionTime": 3791,
    "lastExecutedAt": 1723563486800,
    "lastExecutedByKernel": "3b824f87-70fc-4815-b9b4-d7b32016998f",
    "lastScheduledRunId": null,
    "lastSuccessfullyExecutedCode": "X = crops[['N', 'P', 'K', 'ph']]\ny = crops[['crop']]\nX_train, X_test, y_train, y_test = train_test_split(X,y,test_size=0.2)\nestimator = LogisticRegression()\nps = {}\nfor i in X_train.columns:\n   x_val = np.array(X_train[i]).reshape(-1,1)\n   estimator.fit(x_val,y_train)\n   y_pred = estimator.predict(np.array(X_test[i]).reshape(-1,1))\n   ps[i] = metrics.precision_score(y_test,y_pred,average='macro')\nps = dict(sorted(ps.items(), key=lambda item: item[1], reverse=True))\nbest_predictive_feature = {list(ps.keys())[0]:list(ps.values())[0]}",
    "outputsMetadata": {
     "0": {
      "height": 38,
      "type": "stream"
     }
    }
   },
   "outputs": [
    {
     "name": "stdout",
     "output_type": "stream",
     "text": [
      "{'K': 0.7899424529809209, 'P': 0.6665986788947931, 'N': 0.6547424094930834, 'ph': 0.574559063507861}\n"
     ]
    }
   ],
   "source": [
    "import pandas as pd\n",
    "import numpy as np\n",
    "from sklearn.linear_model import LogisticRegression\n",
    "from sklearn.model_selection import train_test_split\n",
    "from sklearn import metrics\n",
    "from sklearn.preprocessing import StandardScaler\n",
    "\n",
    "crops = pd.read_csv(\"soil_measures.csv\")\n",
    "\n",
    "X = crops[['N', 'P', 'K', 'ph']]\n",
    "y = crops['crop'].to_numpy()\n",
    "\n",
    "X_train, X_test, y_train, y_test = train_test_split(X, y, test_size=0.2)\n",
    "\n",
    "scaler = StandardScaler()\n",
    "X_train_scaled = scaler.fit_transform(X_train)\n",
    "X_test_scaled = scaler.transform(X_test)\n",
    "\n",
    "estimator = LogisticRegression(max_iter=1000)\n",
    "\n",
    "ps = {}\n",
    "\n",
    "for i in X_train.columns:\n",
    "   x_val = X_train_scaled[:, [X_train.columns.get_loc(i)]]\n",
    "   estimator.fit(x_val, y_train)\n",
    "   y_pred = estimator.predict(X_test_scaled[:, [X_test.columns.get_loc(i)]])\n",
    "   ps[i] = metrics.precision_score(y_test, y_pred, average='macro', zero_division=1)\n",
    "\n",
    "ps = dict(sorted(ps.items(), key=lambda item: item[1], reverse=True))\n",
    "\n",
    "print(ps)"
   ]
  }
 ],
 "metadata": {
  "colab": {
   "name": "Welcome to DataCamp Workspaces.ipynb",
   "provenance": []
  },
  "kernelspec": {
   "display_name": "Python 3",
   "language": "python",
   "name": "python3"
  },
  "language_info": {
   "codemirror_mode": {
    "name": "ipython",
    "version": 3
   },
   "file_extension": ".py",
   "mimetype": "text/x-python",
   "name": "python",
   "nbconvert_exporter": "python",
   "pygments_lexer": "ipython3",
   "version": "3.12.4"
  }
 },
 "nbformat": 4,
 "nbformat_minor": 5
}
