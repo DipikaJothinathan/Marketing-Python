{
 "cells": [
  {
   "cell_type": "code",
   "execution_count": 9,
   "id": "a92fafb0-d54b-44a4-bad0-e7bb8c0df342",
   "metadata": {
    "executionCancelledAt": null,
    "executionTime": 40,
    "lastExecutedAt": 1722629051914,
    "lastExecutedByKernel": "d9a22cc8-d608-4639-8d7a-a17a36959268",
    "lastScheduledRunId": null,
    "lastSuccessfullyExecutedCode": "# Import pandas, read and inspect the datasets\nimport pandas as pd\n\nlego_sets = pd.read_csv('data/lego_sets.csv')\nlego_sets.head()",
    "outputsMetadata": {
     "0": {
      "height": 185,
      "type": "dataFrame"
     },
     "1": {
      "height": 196,
      "type": "dataFrame"
     }
    }
   },
   "outputs": [
    {
     "data": {
      "text/html": [
       "<div>\n",
       "<style scoped>\n",
       "    .dataframe tbody tr th:only-of-type {\n",
       "        vertical-align: middle;\n",
       "    }\n",
       "\n",
       "    .dataframe tbody tr th {\n",
       "        vertical-align: top;\n",
       "    }\n",
       "\n",
       "    .dataframe thead th {\n",
       "        text-align: right;\n",
       "    }\n",
       "</style>\n",
       "<table border=\"1\" class=\"dataframe\">\n",
       "  <thead>\n",
       "    <tr style=\"text-align: right;\">\n",
       "      <th></th>\n",
       "      <th>set_num</th>\n",
       "      <th>name</th>\n",
       "      <th>year</th>\n",
       "      <th>num_parts</th>\n",
       "      <th>theme_name</th>\n",
       "      <th>parent_theme</th>\n",
       "    </tr>\n",
       "  </thead>\n",
       "  <tbody>\n",
       "    <tr>\n",
       "      <th>0</th>\n",
       "      <td>00-1</td>\n",
       "      <td>Weetabix Castle</td>\n",
       "      <td>1970</td>\n",
       "      <td>471.0</td>\n",
       "      <td>Castle</td>\n",
       "      <td>Legoland</td>\n",
       "    </tr>\n",
       "    <tr>\n",
       "      <th>1</th>\n",
       "      <td>0011-2</td>\n",
       "      <td>Town Mini-Figures</td>\n",
       "      <td>1978</td>\n",
       "      <td>NaN</td>\n",
       "      <td>Supplemental</td>\n",
       "      <td>Town</td>\n",
       "    </tr>\n",
       "    <tr>\n",
       "      <th>2</th>\n",
       "      <td>0011-3</td>\n",
       "      <td>Castle 2 for 1 Bonus Offer</td>\n",
       "      <td>1987</td>\n",
       "      <td>NaN</td>\n",
       "      <td>Lion Knights</td>\n",
       "      <td>Castle</td>\n",
       "    </tr>\n",
       "    <tr>\n",
       "      <th>3</th>\n",
       "      <td>0012-1</td>\n",
       "      <td>Space Mini-Figures</td>\n",
       "      <td>1979</td>\n",
       "      <td>12.0</td>\n",
       "      <td>Supplemental</td>\n",
       "      <td>Space</td>\n",
       "    </tr>\n",
       "    <tr>\n",
       "      <th>4</th>\n",
       "      <td>0013-1</td>\n",
       "      <td>Space Mini-Figures</td>\n",
       "      <td>1979</td>\n",
       "      <td>12.0</td>\n",
       "      <td>Supplemental</td>\n",
       "      <td>Space</td>\n",
       "    </tr>\n",
       "  </tbody>\n",
       "</table>\n",
       "</div>"
      ],
      "text/plain": [
       "  set_num                        name  year  num_parts    theme_name  \\\n",
       "0    00-1             Weetabix Castle  1970      471.0        Castle   \n",
       "1  0011-2           Town Mini-Figures  1978        NaN  Supplemental   \n",
       "2  0011-3  Castle 2 for 1 Bonus Offer  1987        NaN  Lion Knights   \n",
       "3  0012-1          Space Mini-Figures  1979       12.0  Supplemental   \n",
       "4  0013-1          Space Mini-Figures  1979       12.0  Supplemental   \n",
       "\n",
       "  parent_theme  \n",
       "0     Legoland  \n",
       "1         Town  \n",
       "2       Castle  \n",
       "3        Space  \n",
       "4        Space  "
      ]
     },
     "execution_count": 9,
     "metadata": {},
     "output_type": "execute_result"
    }
   ],
   "source": [
    "import pandas as pd\n",
    "\n",
    "lego_sets = pd.read_csv('data/lego_sets.csv')\n",
    "lego_sets.head()"
   ]
  },
  {
   "cell_type": "code",
   "execution_count": 10,
   "id": "bae28977-3536-43e7-9ac2-7fcebc4b68ee",
   "metadata": {
    "executionCancelledAt": null,
    "executionTime": 54,
    "lastExecutedAt": 1722629051968,
    "lastExecutedByKernel": "d9a22cc8-d608-4639-8d7a-a17a36959268",
    "lastScheduledRunId": null,
    "lastSuccessfullyExecutedCode": "parent_themes = pd.read_csv('data/parent_themes.csv')\nparent_themes.head()",
    "outputsMetadata": {
     "0": {
      "height": 185,
      "type": "dataFrame"
     }
    }
   },
   "outputs": [
    {
     "data": {
      "text/html": [
       "<div>\n",
       "<style scoped>\n",
       "    .dataframe tbody tr th:only-of-type {\n",
       "        vertical-align: middle;\n",
       "    }\n",
       "\n",
       "    .dataframe tbody tr th {\n",
       "        vertical-align: top;\n",
       "    }\n",
       "\n",
       "    .dataframe thead th {\n",
       "        text-align: right;\n",
       "    }\n",
       "</style>\n",
       "<table border=\"1\" class=\"dataframe\">\n",
       "  <thead>\n",
       "    <tr style=\"text-align: right;\">\n",
       "      <th></th>\n",
       "      <th>id</th>\n",
       "      <th>name</th>\n",
       "      <th>is_licensed</th>\n",
       "    </tr>\n",
       "  </thead>\n",
       "  <tbody>\n",
       "    <tr>\n",
       "      <th>0</th>\n",
       "      <td>1</td>\n",
       "      <td>Technic</td>\n",
       "      <td>False</td>\n",
       "    </tr>\n",
       "    <tr>\n",
       "      <th>1</th>\n",
       "      <td>22</td>\n",
       "      <td>Creator</td>\n",
       "      <td>False</td>\n",
       "    </tr>\n",
       "    <tr>\n",
       "      <th>2</th>\n",
       "      <td>50</td>\n",
       "      <td>Town</td>\n",
       "      <td>False</td>\n",
       "    </tr>\n",
       "    <tr>\n",
       "      <th>3</th>\n",
       "      <td>112</td>\n",
       "      <td>Racers</td>\n",
       "      <td>False</td>\n",
       "    </tr>\n",
       "    <tr>\n",
       "      <th>4</th>\n",
       "      <td>126</td>\n",
       "      <td>Space</td>\n",
       "      <td>False</td>\n",
       "    </tr>\n",
       "  </tbody>\n",
       "</table>\n",
       "</div>"
      ],
      "text/plain": [
       "    id     name  is_licensed\n",
       "0    1  Technic        False\n",
       "1   22  Creator        False\n",
       "2   50     Town        False\n",
       "3  112   Racers        False\n",
       "4  126    Space        False"
      ]
     },
     "execution_count": 10,
     "metadata": {},
     "output_type": "execute_result"
    }
   ],
   "source": [
    "parent_themes = pd.read_csv('data/parent_themes.csv')\n",
    "parent_themes.head()"
   ]
  },
  {
   "cell_type": "code",
   "execution_count": 11,
   "id": "d13d5838-b521-4fed-be69-035bc83d4f7d",
   "metadata": {
    "executionCancelledAt": null,
    "executionTime": 51,
    "lastExecutedAt": 1722629052019,
    "lastExecutedByKernel": "d9a22cc8-d608-4639-8d7a-a17a36959268",
    "lastScheduledRunId": null,
    "lastSuccessfullyExecutedCode": "# Perform an inner join on lego_sets and parent_themes using the 'parent_theme' and 'name' columns\nmerged_df = pd.merge(lego_sets, parent_themes, how='inner', left_on='parent_theme', right_on='name')\n\n# Display the first few rows of the merged dataframe\nmerged_df.head()",
    "outputsMetadata": {
     "0": {
      "height": 185,
      "type": "dataFrame"
     }
    }
   },
   "outputs": [
    {
     "data": {
      "text/html": [
       "<div>\n",
       "<style scoped>\n",
       "    .dataframe tbody tr th:only-of-type {\n",
       "        vertical-align: middle;\n",
       "    }\n",
       "\n",
       "    .dataframe tbody tr th {\n",
       "        vertical-align: top;\n",
       "    }\n",
       "\n",
       "    .dataframe thead th {\n",
       "        text-align: right;\n",
       "    }\n",
       "</style>\n",
       "<table border=\"1\" class=\"dataframe\">\n",
       "  <thead>\n",
       "    <tr style=\"text-align: right;\">\n",
       "      <th></th>\n",
       "      <th>set_num</th>\n",
       "      <th>name_x</th>\n",
       "      <th>year</th>\n",
       "      <th>num_parts</th>\n",
       "      <th>theme_name</th>\n",
       "      <th>parent_theme</th>\n",
       "      <th>id</th>\n",
       "      <th>name_y</th>\n",
       "      <th>is_licensed</th>\n",
       "    </tr>\n",
       "  </thead>\n",
       "  <tbody>\n",
       "    <tr>\n",
       "      <th>0</th>\n",
       "      <td>00-1</td>\n",
       "      <td>Weetabix Castle</td>\n",
       "      <td>1970</td>\n",
       "      <td>471.0</td>\n",
       "      <td>Castle</td>\n",
       "      <td>Legoland</td>\n",
       "      <td>411</td>\n",
       "      <td>Legoland</td>\n",
       "      <td>False</td>\n",
       "    </tr>\n",
       "    <tr>\n",
       "      <th>1</th>\n",
       "      <td>0011-2</td>\n",
       "      <td>Town Mini-Figures</td>\n",
       "      <td>1978</td>\n",
       "      <td>NaN</td>\n",
       "      <td>Supplemental</td>\n",
       "      <td>Town</td>\n",
       "      <td>50</td>\n",
       "      <td>Town</td>\n",
       "      <td>False</td>\n",
       "    </tr>\n",
       "    <tr>\n",
       "      <th>2</th>\n",
       "      <td>0011-3</td>\n",
       "      <td>Castle 2 for 1 Bonus Offer</td>\n",
       "      <td>1987</td>\n",
       "      <td>NaN</td>\n",
       "      <td>Lion Knights</td>\n",
       "      <td>Castle</td>\n",
       "      <td>186</td>\n",
       "      <td>Castle</td>\n",
       "      <td>False</td>\n",
       "    </tr>\n",
       "    <tr>\n",
       "      <th>3</th>\n",
       "      <td>0012-1</td>\n",
       "      <td>Space Mini-Figures</td>\n",
       "      <td>1979</td>\n",
       "      <td>12.0</td>\n",
       "      <td>Supplemental</td>\n",
       "      <td>Space</td>\n",
       "      <td>126</td>\n",
       "      <td>Space</td>\n",
       "      <td>False</td>\n",
       "    </tr>\n",
       "    <tr>\n",
       "      <th>4</th>\n",
       "      <td>0013-1</td>\n",
       "      <td>Space Mini-Figures</td>\n",
       "      <td>1979</td>\n",
       "      <td>12.0</td>\n",
       "      <td>Supplemental</td>\n",
       "      <td>Space</td>\n",
       "      <td>126</td>\n",
       "      <td>Space</td>\n",
       "      <td>False</td>\n",
       "    </tr>\n",
       "  </tbody>\n",
       "</table>\n",
       "</div>"
      ],
      "text/plain": [
       "  set_num                      name_x  year  num_parts    theme_name  \\\n",
       "0    00-1             Weetabix Castle  1970      471.0        Castle   \n",
       "1  0011-2           Town Mini-Figures  1978        NaN  Supplemental   \n",
       "2  0011-3  Castle 2 for 1 Bonus Offer  1987        NaN  Lion Knights   \n",
       "3  0012-1          Space Mini-Figures  1979       12.0  Supplemental   \n",
       "4  0013-1          Space Mini-Figures  1979       12.0  Supplemental   \n",
       "\n",
       "  parent_theme   id    name_y  is_licensed  \n",
       "0     Legoland  411  Legoland        False  \n",
       "1         Town   50      Town        False  \n",
       "2       Castle  186    Castle        False  \n",
       "3        Space  126     Space        False  \n",
       "4        Space  126     Space        False  "
      ]
     },
     "execution_count": 11,
     "metadata": {},
     "output_type": "execute_result"
    }
   ],
   "source": [
    "merged_df = pd.merge(lego_sets, parent_themes, how='inner', left_on='parent_theme', right_on='name')\n",
    "merged_df.head()"
   ]
  },
  {
   "cell_type": "code",
   "execution_count": 12,
   "id": "08ccd98d-6777-402c-93e3-1beebc4fd046",
   "metadata": {
    "executionCancelledAt": null,
    "executionTime": 48,
    "lastExecutedAt": 1722629052067,
    "lastExecutedByKernel": "d9a22cc8-d608-4639-8d7a-a17a36959268",
    "lastScheduledRunId": null,
    "lastSuccessfullyExecutedCode": "# Filter merged_df to include only rows where is_licensed is True\nlicensed_df = merged_df[merged_df['is_licensed'] == True]\n\n# Display the first few rows of the filtered dataframe\nlicensed_df.head()",
    "outputsMetadata": {
     "0": {
      "height": 202,
      "type": "dataFrame"
     }
    }
   },
   "outputs": [
    {
     "data": {
      "text/html": [
       "<div>\n",
       "<style scoped>\n",
       "    .dataframe tbody tr th:only-of-type {\n",
       "        vertical-align: middle;\n",
       "    }\n",
       "\n",
       "    .dataframe tbody tr th {\n",
       "        vertical-align: top;\n",
       "    }\n",
       "\n",
       "    .dataframe thead th {\n",
       "        text-align: right;\n",
       "    }\n",
       "</style>\n",
       "<table border=\"1\" class=\"dataframe\">\n",
       "  <thead>\n",
       "    <tr style=\"text-align: right;\">\n",
       "      <th></th>\n",
       "      <th>set_num</th>\n",
       "      <th>name_x</th>\n",
       "      <th>year</th>\n",
       "      <th>num_parts</th>\n",
       "      <th>theme_name</th>\n",
       "      <th>parent_theme</th>\n",
       "      <th>id</th>\n",
       "      <th>name_y</th>\n",
       "      <th>is_licensed</th>\n",
       "    </tr>\n",
       "  </thead>\n",
       "  <tbody>\n",
       "    <tr>\n",
       "      <th>44</th>\n",
       "      <td>10018-1</td>\n",
       "      <td>Darth Maul</td>\n",
       "      <td>2001</td>\n",
       "      <td>1868.0</td>\n",
       "      <td>Star Wars</td>\n",
       "      <td>Star Wars</td>\n",
       "      <td>158</td>\n",
       "      <td>Star Wars</td>\n",
       "      <td>True</td>\n",
       "    </tr>\n",
       "    <tr>\n",
       "      <th>45</th>\n",
       "      <td>10019-1</td>\n",
       "      <td>Rebel Blockade Runner - UCS</td>\n",
       "      <td>2001</td>\n",
       "      <td>NaN</td>\n",
       "      <td>Star Wars Episode 4/5/6</td>\n",
       "      <td>Star Wars</td>\n",
       "      <td>158</td>\n",
       "      <td>Star Wars</td>\n",
       "      <td>True</td>\n",
       "    </tr>\n",
       "    <tr>\n",
       "      <th>54</th>\n",
       "      <td>10026-1</td>\n",
       "      <td>Naboo Starfighter - UCS</td>\n",
       "      <td>2002</td>\n",
       "      <td>NaN</td>\n",
       "      <td>Star Wars Episode 1</td>\n",
       "      <td>Star Wars</td>\n",
       "      <td>158</td>\n",
       "      <td>Star Wars</td>\n",
       "      <td>True</td>\n",
       "    </tr>\n",
       "    <tr>\n",
       "      <th>57</th>\n",
       "      <td>10030-1</td>\n",
       "      <td>Imperial Star Destroyer - UCS</td>\n",
       "      <td>2002</td>\n",
       "      <td>3115.0</td>\n",
       "      <td>Star Wars Episode 4/5/6</td>\n",
       "      <td>Star Wars</td>\n",
       "      <td>158</td>\n",
       "      <td>Star Wars</td>\n",
       "      <td>True</td>\n",
       "    </tr>\n",
       "    <tr>\n",
       "      <th>95</th>\n",
       "      <td>10075-1</td>\n",
       "      <td>Spider-Man Action Pack</td>\n",
       "      <td>2002</td>\n",
       "      <td>25.0</td>\n",
       "      <td>Spider-Man</td>\n",
       "      <td>Super Heroes</td>\n",
       "      <td>482</td>\n",
       "      <td>Super Heroes</td>\n",
       "      <td>True</td>\n",
       "    </tr>\n",
       "  </tbody>\n",
       "</table>\n",
       "</div>"
      ],
      "text/plain": [
       "    set_num                         name_x  year  num_parts  \\\n",
       "44  10018-1                     Darth Maul  2001     1868.0   \n",
       "45  10019-1    Rebel Blockade Runner - UCS  2001        NaN   \n",
       "54  10026-1        Naboo Starfighter - UCS  2002        NaN   \n",
       "57  10030-1  Imperial Star Destroyer - UCS  2002     3115.0   \n",
       "95  10075-1         Spider-Man Action Pack  2002       25.0   \n",
       "\n",
       "                 theme_name  parent_theme   id        name_y  is_licensed  \n",
       "44                Star Wars     Star Wars  158     Star Wars         True  \n",
       "45  Star Wars Episode 4/5/6     Star Wars  158     Star Wars         True  \n",
       "54      Star Wars Episode 1     Star Wars  158     Star Wars         True  \n",
       "57  Star Wars Episode 4/5/6     Star Wars  158     Star Wars         True  \n",
       "95               Spider-Man  Super Heroes  482  Super Heroes         True  "
      ]
     },
     "execution_count": 12,
     "metadata": {},
     "output_type": "execute_result"
    }
   ],
   "source": [
    "licensed_df = merged_df[merged_df['is_licensed'] == True]\n",
    "licensed_df.head()"
   ]
  },
  {
   "cell_type": "code",
   "execution_count": 13,
   "id": "92361b69-1644-4dc7-946b-3df1d4fdccd2",
   "metadata": {
    "executionCancelledAt": null,
    "executionTime": 51,
    "lastExecutedAt": 1722629052118,
    "lastExecutedByKernel": "d9a22cc8-d608-4639-8d7a-a17a36959268",
    "lastScheduledRunId": null,
    "lastSuccessfullyExecutedCode": "# Perform value_counts on the 'parent_theme' column of the licensed_df dataframe\nparent_theme_counts = licensed_df['parent_theme'].value_counts()\n\n# Display the value counts\nparent_theme_counts",
    "outputsMetadata": {
     "0": {
      "height": 309,
      "type": "dataFrame"
     }
    }
   },
   "outputs": [
    {
     "data": {
      "text/plain": [
       "parent_theme\n",
       "Star Wars                           609\n",
       "Super Heroes                        343\n",
       "Harry Potter                         93\n",
       "Minecraft                            44\n",
       "Disney Princess                      41\n",
       "The Hobbit and Lord of the Rings     40\n",
       "Cars                                 27\n",
       "Teenage Mutant Ninja Turtles         21\n",
       "Indiana Jones                        19\n",
       "Pirates of the Caribbean             17\n",
       "Toy Story                            15\n",
       "SpongeBob SquarePants                14\n",
       "The Lone Ranger                       8\n",
       "Jurassic World                        7\n",
       "Prince of Persia                      6\n",
       "Scooby-Doo                            6\n",
       "Disney's Mickey Mouse                 6\n",
       "Angry Birds                           6\n",
       "Ben 10                                6\n",
       "Avatar                                2\n",
       "Disney                                1\n",
       "Ghostbusters                          1\n",
       "Name: count, dtype: int64"
      ]
     },
     "execution_count": 13,
     "metadata": {},
     "output_type": "execute_result"
    }
   ],
   "source": [
    "parent_theme_counts = licensed_df['parent_theme'].value_counts()\n",
    "parent_theme_counts"
   ]
  },
  {
   "cell_type": "code",
   "execution_count": 14,
   "id": "f57669f0-4218-4a28-8884-7e1db5cd1f4d",
   "metadata": {
    "executionCancelledAt": null,
    "executionTime": 53,
    "lastExecutedAt": 1722629052171,
    "lastExecutedByKernel": "d9a22cc8-d608-4639-8d7a-a17a36959268",
    "lastScheduledRunId": null,
    "lastSuccessfullyExecutedCode": "# Get the number of rows in licensed_df\nnum_rows_licensed_df = licensed_df.shape[0]\n\n# Display the number of rows\nnum_rows_licensed_df\n\nthe_force = round(parent_theme_counts[0]/num_rows_licensed_df*100)\nthe_force"
   },
   "outputs": [
    {
     "name": "stderr",
     "output_type": "stream",
     "text": [
      "C:\\Users\\dipid\\AppData\\Local\\Temp\\ipykernel_14688\\2636717304.py:4: FutureWarning: Series.__getitem__ treating keys as positions is deprecated. In a future version, integer keys will always be treated as labels (consistent with DataFrame behavior). To access a value by position, use `ser.iloc[pos]`\n",
      "  the_force = round(parent_theme_counts[0]/num_rows_licensed_df*100)\n"
     ]
    },
    {
     "data": {
      "text/plain": [
       "46"
      ]
     },
     "execution_count": 14,
     "metadata": {},
     "output_type": "execute_result"
    }
   ],
   "source": [
    "num_rows_licensed_df = licensed_df.shape[0]\n",
    "num_rows_licensed_df\n",
    "\n",
    "the_force = round(parent_theme_counts[0]/num_rows_licensed_df*100)\n",
    "the_force"
   ]
  },
  {
   "cell_type": "code",
   "execution_count": 15,
   "id": "229f6a03-6f6e-4cd6-a743-c286404a55f8",
   "metadata": {
    "executionCancelledAt": null,
    "executionTime": 52,
    "lastExecutedAt": 1722629052223,
    "lastExecutedByKernel": "d9a22cc8-d608-4639-8d7a-a17a36959268",
    "lastScheduledRunId": null,
    "lastSuccessfullyExecutedCode": "# Filter merged_df to include only rows where parent_theme is 'Star Wars'\nstar_wars_df = licensed_df[licensed_df['parent_theme'] == 'Star Wars']\n\n# Display the first few rows of the filtered dataframe\nstar_wars_df.head()",
    "outputsMetadata": {
     "0": {
      "height": 202,
      "type": "dataFrame"
     }
    }
   },
   "outputs": [
    {
     "data": {
      "text/html": [
       "<div>\n",
       "<style scoped>\n",
       "    .dataframe tbody tr th:only-of-type {\n",
       "        vertical-align: middle;\n",
       "    }\n",
       "\n",
       "    .dataframe tbody tr th {\n",
       "        vertical-align: top;\n",
       "    }\n",
       "\n",
       "    .dataframe thead th {\n",
       "        text-align: right;\n",
       "    }\n",
       "</style>\n",
       "<table border=\"1\" class=\"dataframe\">\n",
       "  <thead>\n",
       "    <tr style=\"text-align: right;\">\n",
       "      <th></th>\n",
       "      <th>set_num</th>\n",
       "      <th>name_x</th>\n",
       "      <th>year</th>\n",
       "      <th>num_parts</th>\n",
       "      <th>theme_name</th>\n",
       "      <th>parent_theme</th>\n",
       "      <th>id</th>\n",
       "      <th>name_y</th>\n",
       "      <th>is_licensed</th>\n",
       "    </tr>\n",
       "  </thead>\n",
       "  <tbody>\n",
       "    <tr>\n",
       "      <th>44</th>\n",
       "      <td>10018-1</td>\n",
       "      <td>Darth Maul</td>\n",
       "      <td>2001</td>\n",
       "      <td>1868.0</td>\n",
       "      <td>Star Wars</td>\n",
       "      <td>Star Wars</td>\n",
       "      <td>158</td>\n",
       "      <td>Star Wars</td>\n",
       "      <td>True</td>\n",
       "    </tr>\n",
       "    <tr>\n",
       "      <th>45</th>\n",
       "      <td>10019-1</td>\n",
       "      <td>Rebel Blockade Runner - UCS</td>\n",
       "      <td>2001</td>\n",
       "      <td>NaN</td>\n",
       "      <td>Star Wars Episode 4/5/6</td>\n",
       "      <td>Star Wars</td>\n",
       "      <td>158</td>\n",
       "      <td>Star Wars</td>\n",
       "      <td>True</td>\n",
       "    </tr>\n",
       "    <tr>\n",
       "      <th>54</th>\n",
       "      <td>10026-1</td>\n",
       "      <td>Naboo Starfighter - UCS</td>\n",
       "      <td>2002</td>\n",
       "      <td>NaN</td>\n",
       "      <td>Star Wars Episode 1</td>\n",
       "      <td>Star Wars</td>\n",
       "      <td>158</td>\n",
       "      <td>Star Wars</td>\n",
       "      <td>True</td>\n",
       "    </tr>\n",
       "    <tr>\n",
       "      <th>57</th>\n",
       "      <td>10030-1</td>\n",
       "      <td>Imperial Star Destroyer - UCS</td>\n",
       "      <td>2002</td>\n",
       "      <td>3115.0</td>\n",
       "      <td>Star Wars Episode 4/5/6</td>\n",
       "      <td>Star Wars</td>\n",
       "      <td>158</td>\n",
       "      <td>Star Wars</td>\n",
       "      <td>True</td>\n",
       "    </tr>\n",
       "    <tr>\n",
       "      <th>116</th>\n",
       "      <td>10123-1</td>\n",
       "      <td>Cloud City</td>\n",
       "      <td>2003</td>\n",
       "      <td>707.0</td>\n",
       "      <td>Star Wars Episode 4/5/6</td>\n",
       "      <td>Star Wars</td>\n",
       "      <td>158</td>\n",
       "      <td>Star Wars</td>\n",
       "      <td>True</td>\n",
       "    </tr>\n",
       "  </tbody>\n",
       "</table>\n",
       "</div>"
      ],
      "text/plain": [
       "     set_num                         name_x  year  num_parts  \\\n",
       "44   10018-1                     Darth Maul  2001     1868.0   \n",
       "45   10019-1    Rebel Blockade Runner - UCS  2001        NaN   \n",
       "54   10026-1        Naboo Starfighter - UCS  2002        NaN   \n",
       "57   10030-1  Imperial Star Destroyer - UCS  2002     3115.0   \n",
       "116  10123-1                     Cloud City  2003      707.0   \n",
       "\n",
       "                  theme_name parent_theme   id     name_y  is_licensed  \n",
       "44                 Star Wars    Star Wars  158  Star Wars         True  \n",
       "45   Star Wars Episode 4/5/6    Star Wars  158  Star Wars         True  \n",
       "54       Star Wars Episode 1    Star Wars  158  Star Wars         True  \n",
       "57   Star Wars Episode 4/5/6    Star Wars  158  Star Wars         True  \n",
       "116  Star Wars Episode 4/5/6    Star Wars  158  Star Wars         True  "
      ]
     },
     "execution_count": 15,
     "metadata": {},
     "output_type": "execute_result"
    }
   ],
   "source": [
    "star_wars_df = licensed_df[licensed_df['parent_theme'] == 'Star Wars']\n",
    "star_wars_df.head()"
   ]
  },
  {
   "cell_type": "code",
   "execution_count": 16,
   "id": "3d6ae38b-e6e7-4767-b219-7e8d2f95d4fe",
   "metadata": {
    "chartConfig": {
     "bar": {
      "hasRoundedCorners": true,
      "stacked": false
     },
     "type": "bar",
     "version": "v1"
    },
    "executionCancelledAt": null,
    "executionTime": 51,
    "lastExecutedAt": 1722629052274,
    "lastExecutedByKernel": "d9a22cc8-d608-4639-8d7a-a17a36959268",
    "lastScheduledRunId": null,
    "lastSuccessfullyExecutedCode": "counts = star_wars_df['year'].value_counts()\ncounts = counts.sort_values(ascending=False)\n\nnew_era = counts.index[0]",
    "outputsMetadata": {
     "0": {
      "height": 38,
      "type": "stream"
     }
    },
    "visualizeDataframe": false
   },
   "outputs": [],
   "source": [
    "counts = star_wars_df['year'].value_counts()\n",
    "counts = counts.sort_values(ascending=False)\n",
    "\n",
    "new_era = counts.index[0]"
   ]
  }
 ],
 "metadata": {
  "colab": {
   "name": "Welcome to DataCamp Workspaces.ipynb",
   "provenance": []
  },
  "editor": "DataLab",
  "kernelspec": {
   "display_name": "Python 3",
   "language": "python",
   "name": "python3"
  },
  "language_info": {
   "codemirror_mode": {
    "name": "ipython",
    "version": 3
   },
   "file_extension": ".py",
   "mimetype": "text/x-python",
   "name": "python",
   "nbconvert_exporter": "python",
   "pygments_lexer": "ipython3",
   "version": "3.12.4"
  }
 },
 "nbformat": 4,
 "nbformat_minor": 5
}
