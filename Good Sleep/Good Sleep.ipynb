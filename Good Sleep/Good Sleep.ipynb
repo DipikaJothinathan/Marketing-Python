{
 "cells": [
  {
   "cell_type": "code",
   "execution_count": 1,
   "id": "a622f61f-54d5-468a-83b6-41f0ff404278",
   "metadata": {
    "executionCancelledAt": null,
    "executionTime": 26,
    "lastExecutedAt": 1722634463274,
    "lastExecutedByKernel": "c78a8b2f-c28a-4ef9-9a93-aa7a23a57164",
    "lastScheduledRunId": null,
    "lastSuccessfullyExecutedCode": "# Start coding here\n# Use as many cells as you need\nimport pandas as pd\ndf = pd.read_csv(\"sleep_health_data.csv\")\n\nlowest_sleep_occ = df[['Occupation','Sleep Duration']]\nlowest_sleep_occ = lowest_sleep_occ.groupby(by='Occupation').mean()\nlowest_sleep_occ = lowest_sleep_occ.sort_values(by='Sleep Duration')\nlowest_sleep_occ = lowest_sleep_occ.index[0]\n\nlowest_sleep_quality_occ = df[['Occupation','Quality of Sleep']]\nlowest_sleep_quality_occ = lowest_sleep_quality_occ.groupby(by='Occupation').mean()\nlowest_sleep_quality_occ = lowest_sleep_quality_occ.sort_values(by='Quality of Sleep')\nlowest_sleep_quality_occ = lowest_sleep_quality_occ.index[0]\n\nsame_occ = (lowest_sleep_occ==lowest_sleep_quality_occ)\n\nnormal_bmi = df[df['BMI Category']=='Normal']\nobese_bmi = df[df['BMI Category']=='Obese']\noverweight_bmi = df[df['BMI Category']=='Overweight']\n\nnormal_insomnia = normal_bmi[normal_bmi['Sleep Disorder']=='Insomnia']\nobese_insomnia = obese_bmi[obese_bmi['Sleep Disorder']=='Insomnia']\noverweight_insomnia = overweight_bmi[overweight_bmi['Sleep Disorder']=='Insomnia']\n\nbmi_insomnia_ratios = {\n    \"Normal\":round((normal_insomnia.shape[0]/normal_bmi.shape[0]),2),\n    \"Overweight\":round((overweight_insomnia.shape[0]/overweight_bmi.shape[0]),2),\n    \"Obese\":round((obese_insomnia.shape[0]/obese_bmi.shape[0]),2)\n}"
   },
   "outputs": [],
   "source": [
    "import pandas as pd\n",
    "df = pd.read_csv(\"sleep_health_data.csv\")"
   ]
  },
  {
   "cell_type": "code",
   "execution_count": 2,
   "id": "84e701b5",
   "metadata": {},
   "outputs": [
    {
     "data": {
      "text/plain": [
       "'Sales Representative'"
      ]
     },
     "execution_count": 2,
     "metadata": {},
     "output_type": "execute_result"
    }
   ],
   "source": [
    "lowest_sleep_occ = df[['Occupation','Sleep Duration']]\n",
    "lowest_sleep_occ = lowest_sleep_occ.groupby(by='Occupation').mean()\n",
    "lowest_sleep_occ = lowest_sleep_occ.sort_values(by='Sleep Duration')\n",
    "lowest_sleep_occ = lowest_sleep_occ.index[0]\n",
    "lowest_sleep_occ"
   ]
  },
  {
   "cell_type": "code",
   "execution_count": 3,
   "id": "5993d1e4",
   "metadata": {},
   "outputs": [
    {
     "data": {
      "text/plain": [
       "'Sales Representative'"
      ]
     },
     "execution_count": 3,
     "metadata": {},
     "output_type": "execute_result"
    }
   ],
   "source": [
    "lowest_sleep_quality_occ = df[['Occupation','Quality of Sleep']]\n",
    "lowest_sleep_quality_occ = lowest_sleep_quality_occ.groupby(by='Occupation').mean()\n",
    "lowest_sleep_quality_occ = lowest_sleep_quality_occ.sort_values(by='Quality of Sleep')\n",
    "lowest_sleep_quality_occ = lowest_sleep_quality_occ.index[0]\n",
    "lowest_sleep_quality_occ"
   ]
  },
  {
   "cell_type": "code",
   "execution_count": 4,
   "id": "ef9baa48",
   "metadata": {},
   "outputs": [
    {
     "data": {
      "text/plain": [
       "{'Normal': 0.04, 'Overweight': 0.43, 'Obese': 0.4}"
      ]
     },
     "execution_count": 4,
     "metadata": {},
     "output_type": "execute_result"
    }
   ],
   "source": [
    "normal_bmi = df[df['BMI Category']=='Normal']\n",
    "obese_bmi = df[df['BMI Category']=='Obese']\n",
    "overweight_bmi = df[df['BMI Category']=='Overweight']\n",
    "\n",
    "normal_insomnia = normal_bmi[normal_bmi['Sleep Disorder']=='Insomnia']\n",
    "obese_insomnia = obese_bmi[obese_bmi['Sleep Disorder']=='Insomnia']\n",
    "overweight_insomnia = overweight_bmi[overweight_bmi['Sleep Disorder']=='Insomnia']\n",
    "\n",
    "bmi_insomnia_ratios = {\n",
    "    \"Normal\":round((normal_insomnia.shape[0]/normal_bmi.shape[0]),2),\n",
    "    \"Overweight\":round((overweight_insomnia.shape[0]/overweight_bmi.shape[0]),2),\n",
    "    \"Obese\":round((obese_insomnia.shape[0]/obese_bmi.shape[0]),2)\n",
    "}\n",
    "bmi_insomnia_ratios"
   ]
  }
 ],
 "metadata": {
  "colab": {
   "name": "Welcome to DataCamp Workspaces.ipynb",
   "provenance": []
  },
  "kernelspec": {
   "display_name": "Python 3",
   "language": "python",
   "name": "python3"
  },
  "language_info": {
   "codemirror_mode": {
    "name": "ipython",
    "version": 3
   },
   "file_extension": ".py",
   "mimetype": "text/x-python",
   "name": "python",
   "nbconvert_exporter": "python",
   "pygments_lexer": "ipython3",
   "version": "3.12.4"
  }
 },
 "nbformat": 4,
 "nbformat_minor": 5
}
